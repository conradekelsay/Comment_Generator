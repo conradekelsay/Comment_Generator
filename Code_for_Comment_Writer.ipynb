{
 "cells": [
  {
   "cell_type": "markdown",
   "metadata": {
    "collapsed": false
   },
   "source": [
    "### Comment Writing Engine\n",
    "\n",
    "#### an application to help teachers write better comments in less time\n"
   ]
  },
  {
   "cell_type": "code",
   "execution_count": 3,
   "metadata": {
    "collapsed": false
   },
   "outputs": [
   ],
   "source": [
    "from csv import DictReader\n",
    "from dataclasses import dataclass\n",
    "from typing import Generator\n",
    "from zlib import decompress\n",
    "from random import choice\n",
    "\n",
    "# define Student class to store data in a more organized way\n",
    "@dataclass\n",
    "class Student:\n",
    "    name: str\n",
    "    grade: float\n",
    "    class_participation: float\n",
    "    homework_performance: float\n",
    "    weakness: str\n",
    "    habit_in_class: str\n",
    "    best_test_name: str\n",
    "    best_test_score: float\n",
    "\n",
    "    @staticmethod\n",
    "    def from_dict(data) -> \"Student\":\n",
    "        \"\"\"convert class from dictionary\"\"\"\n",
    "        return Student(\n",
    "            name=data[\"Name\"],\n",
    "            grade=float(data[\"Grade\"]),\n",
    "            class_participation=float(data[\"Class Participation\"]),\n",
    "            homework_performance=float(data[\"Homework performance\"]),\n",
    "            weakness=data[\"Weakness\"],\n",
    "            habit_in_class=data[\"Habit in Class\"],\n",
    "            best_test_name=data[\"Best Test Name\"],\n",
    "            best_test_score=float(data[\"Best Test Score\"]),\n",
    "        )\n",
    "\n",
    "    @property\n",
    "    def average(self) -> float:\n",
    "        \"\"\"calculate average GPA\"\"\"\n",
    "        return (self.grade + self.class_participation + self.homework_performance) / 3\n",
    "\n",
    "    \n",
    "\n",
    "description: str\n",
    "levels: tuple[tuple[str]]\n",
    "# read compressed file to get course description\n",
    "with open('description', 'rb') as f:\n",
    "    description = decompress(f.read()).decode()\n",
    "# read compressed file to get comments for each level\n",
    "with open('compressed_levels', 'rb') as f:\n",
    "    exec(decompress(f.read()).decode())\n",
    "\n",
    "\n",
    "def read_students(filename: str) -> Generator[Student, None, None]:\n",
    "    \"\"\"create a reader to read students\"\"\"\n",
    "    with open(filename, newline=\"\") as f:\n",
    "        # read student in a lazy way to avoid high memory cost\n",
    "        reader = DictReader(f)\n",
    "        for row in reader:\n",
    "            # use generator to improve readability\n",
    "            yield Student.from_dict(row)\n",
    "\n",
    "def main() -> None:\n",
    "    students = read_students(\"example.csv\")  # create reader\n",
    "    for student in students:  # iterate through students\n",
    "        with open(f\"{student.name}.txt\", \"w\") as f:\n",
    "            fmt_str = choice(levels[4 - round(student.average)])  # get corresponding formatted comments for student's GPA\n",
    "            f.write(description)  # write course description\n",
    "            f.write(\"\\n\")\n",
    "            f.write(fmt_str.format(name = student.name.split()[0]))  # write formatted comments into file\n",
    "\n",
    "if __name__ == \"__main__\":\n",
    "    main()"
   ]
  },
  {
   "cell_type": "code",
   "execution_count": 0,
   "metadata": {
    "collapsed": false
   },
   "outputs": [
   ],
   "source": [
   ]
  }
 ],
 "metadata": {
  "kernelspec": {
   "argv": [
    "/ext/jupyter/kernels/anaconda2022/launch.sh",
    "{connection_file}"
   ],
   "display_name": "Python 3 (Anaconda 2022)",
   "env": {
   },
   "language": "python",
   "metadata": {
    "cocalc": {
     "description": "Anaconda 2022.05 Python 3 environment",
     "priority": 5,
     "url": "https://www.anaconda.com/distribution/"
    }
   },
   "name": "anaconda2022",
   "resource_dir": "/ext/jupyter/kernels/anaconda2022"
  }
 },
 "nbformat": 4,
 "nbformat_minor": 4
}